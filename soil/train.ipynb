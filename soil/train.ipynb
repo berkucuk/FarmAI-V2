version https://git-lfs.github.com/spec/v1
oid sha256:7315614f2f85a8fbd19d3d8f72a3c5f92293e5611fe81b56d38523b90a54bb50
size 7913
