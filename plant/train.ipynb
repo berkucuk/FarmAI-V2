version https://git-lfs.github.com/spec/v1
oid sha256:04abac3971edcba0715b3b2d09fbd6cd7d0e1b90852f094fd489fbcbb11493da
size 8710
